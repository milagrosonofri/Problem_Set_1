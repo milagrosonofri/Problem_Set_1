{
  "nbformat": 4,
  "nbformat_minor": 0,
  "metadata": {
    "colab": {
      "provenance": [],
      "include_colab_link": true
    },
    "kernelspec": {
      "name": "python3",
      "display_name": "Python 3"
    },
    "language_info": {
      "name": "python"
    }
  },
  "cells": [
    {
      "cell_type": "markdown",
      "metadata": {
        "id": "view-in-github",
        "colab_type": "text"
      },
      "source": [
        "<a href=\"https://colab.research.google.com/github/milagrosonofri/Problem_Set_1/blob/main/PS1.ipynb\" target=\"_parent\"><img src=\"https://colab.research.google.com/assets/colab-badge.svg\" alt=\"Open In Colab\"/></a>"
      ]
    },
    {
      "cell_type": "markdown",
      "source": [
        "## Obtención y limpieza de la base de datos"
      ],
      "metadata": {
        "id": "H8j9L3o5AxL4"
      }
    },
    {
      "cell_type": "code",
      "execution_count": 69,
      "metadata": {
        "id": "Wqvuo0LbINWz"
      },
      "outputs": [],
      "source": [
        "# Importamos las librerías necesarias\n",
        "import requests\n",
        "from bs4 import BeautifulSoup\n",
        "import pandas as pd\n",
        "import numpy as np\n",
        "import seaborn as sns\n",
        "import matplotlib.pyplot as plt\n",
        "from sklearn.model_selection import train_test_split\n",
        "from sklearn.linear_model import LinearRegression\n",
        "from sklearn.metrics import mean_squared_error\n",
        "from sklearn.preprocessing import PolynomialFeatures"
      ]
    },
    {
      "cell_type": "markdown",
      "source": [
        "Web Scraping"
      ],
      "metadata": {
        "id": "PTcFCde5IdHI"
      }
    },
    {
      "cell_type": "code",
      "source": [
        "# Armamos una lista para almacenar todos los datos\n",
        "data = []\n",
        "\n",
        "# Base URL de las páginas\n",
        "base_url = 'https://ignaciomsarmiento.github.io/GEIH2018_sample/pages/geih_page_{}.html'\n",
        "\n",
        "# Iteramos sobre las 10 páginas\n",
        "for i in range(1, 11):\n",
        "\n",
        "    # Construimos la URL de la página actual\n",
        "    url = base_url.format(i)\n",
        "\n",
        "    # Enviamos solicitud HTTP\n",
        "    response = requests.get(url)\n",
        "    print(f\"Scraping página {i}: {response}\")  # Confirmar que la solicitud es exitosa (<Response [200]>)\n",
        "\n",
        "    # Parsear el contenido HTML\n",
        "    soup = BeautifulSoup(response.content, 'html.parser')\n",
        "\n",
        "    # Encontrar la tabla en la página\n",
        "    table = soup.find('table')\n",
        "\n",
        "    # Extraemos encabezados (solo en la primera iteración)\n",
        "    if i == 1:  # Tomar encabezados solo de la primera página\n",
        "        headers = []\n",
        "        for header in table.find_all('th'):\n",
        "            headers.append(header.text.strip())\n",
        "\n",
        "    # Extraemos filas de datos\n",
        "    for row in table.find_all('tr'):\n",
        "        row_data = []\n",
        "        for cell in row.find_all('td'):\n",
        "            row_data.append(cell.text.strip())\n",
        "        if row_data:  # Agregar solo filas con datos\n",
        "            data.append(row_data)\n",
        "\n",
        "# Convertimos los datos consolidados en un DataFrame\n",
        "df = pd.DataFrame(data, columns=headers)\n",
        "\n",
        "df"
      ],
      "metadata": {
        "colab": {
          "base_uri": "https://localhost:8080/"
        },
        "id": "j3pywVoBIgZO",
        "outputId": "57b1ef3a-73ff-4404-e372-ca3042659a02"
      },
      "execution_count": null,
      "outputs": [
        {
          "output_type": "stream",
          "name": "stdout",
          "text": [
            "Scraping página 1: <Response [200]>\n",
            "Scraping página 2: <Response [200]>\n"
          ]
        }
      ]
    },
    {
      "cell_type": "markdown",
      "source": [
        "Limpieza de base de datos"
      ],
      "metadata": {
        "id": "HxBl-X0rA4D9"
      }
    },
    {
      "cell_type": "code",
      "source": [
        "# Obtengo el nombre de todas las variables disponibles\n",
        "variables = df.columns.tolist()\n",
        "\n",
        "print(variables)\n",
        "\n",
        "# Restringimos a individuos empleados mayores de 18 años (HAY QUE REVISAR SI P6240 ES LA CORRECTA)\n",
        "df_limpio = df[(df['age'].astype(float) > 18) & (df['ocu'] == '1')]\n",
        "\n",
        "print(f\"Número de registros después del filtro (empleados mayores de 18 años): {len(df_limpio)}\")"
      ],
      "metadata": {
        "id": "wd-S9dexy9oh"
      },
      "execution_count": null,
      "outputs": []
    },
    {
      "cell_type": "code",
      "source": [
        "# Primer approach para describir los datos\n",
        "\n",
        "print(\"Información del DataFrame:\")\n",
        "print(df_limpio.info())"
      ],
      "metadata": {
        "id": "JoQrXE6Ly9k4"
      },
      "execution_count": null,
      "outputs": []
    },
    {
      "cell_type": "code",
      "source": [
        "# Renombro variables para tener una interpretación mas sencilla de aquí en adelante\n",
        "df_limpio = df_limpio.rename(columns={'p6500': 'salario_empleo_principal', 'p7070': 'salario_empleo_secundario',\n",
        "                                      'p6426': 'antig', 'sex': 'sexo', 'age': 'edad'})"
      ],
      "metadata": {
        "id": "RE3AO9i1NiyW"
      },
      "execution_count": null,
      "outputs": []
    },
    {
      "cell_type": "code",
      "source": [
        "# Convierto algunas variables de relacionados al salario horario a formato numérico para poder compararlas\n",
        "wage_hours_related_vars = ['salario_empleo_principal', 'salario_empleo_secundario', 'hoursWorkUsual', 'hoursWorkActualSecondJob',\n",
        "                           'y_salary_m', 'y_salary_m_hu', 'y_ingLab_m', 'y_ingLab_m_ha']\n",
        "\n",
        "for col in wage_hours_related_vars:\n",
        "\n",
        "    df_limpio[col] = pd.to_numeric(df_limpio[col], errors='coerce')\n",
        "    print(f\"{col} dtype: {df_limpio[col].dtype}\")\n",
        "\n",
        "# Calculo 'hour_wage' teniendo en cuenta los valores NaN\n",
        "df_limpio['hour_wage'] = (df_limpio['salario_empleo_principal'].fillna(0) + df_limpio['salario_empleo_secundario'].fillna(0)) / \\\n",
        "                                         ((df_limpio['hoursWorkActualSecondJob'].fillna(0) + df_limpio['hoursWorkUsual'].fillna(0))*4)\n",
        "\n",
        "# Ajusto para casos donde el denominador es cero (para evitar divisiones por cero)\n",
        "df_limpio.loc[(df_limpio['hoursWorkActualSecondJob'].fillna(0) + df_limpio['hoursWorkUsual'].fillna(0)) == 0, 'hour_wage'] = np.nan\n",
        "\n",
        "# Ajusto para casos donde ambos, salario_empleo_principal y salario_empleo_secundario, son NaN\n",
        "df_limpio.loc[df_limpio['salario_empleo_principal'].isna() & df_limpio['salario_empleo_secundario'].isna(), 'hour_wage'] = np.nan\n",
        "\n",
        "# Ajusto para casos donde ambos, hoursWorkActualSecondJob y hoursWorkUsual, son NaN\n",
        "df_limpio.loc[df_limpio['hoursWorkActualSecondJob'].isna() & df_limpio['hoursWorkUsual'].isna(), 'hour_wage'] = np.nan\n",
        "\n",
        "# Agrego la variable creada a la lista con las variables a comparar\n",
        "wage_hours_related_vars = wage_hours_related_vars + ['hour_wage']"
      ],
      "metadata": {
        "id": "FA_dWNtE36iR"
      },
      "execution_count": null,
      "outputs": []
    },
    {
      "cell_type": "code",
      "source": [
        "# Observo variables de interés\n",
        "print(\"Unique values in 'maxEducLevel':\")\n",
        "print(df_limpio['maxEducLevel'].unique())\n",
        "\n",
        "print(\"\\nUnique values in 'sizeFirm':\")\n",
        "print(df_limpio['sizeFirm'].unique())\n",
        "\n",
        "print(\"\\nUnique values in 'relab':\")\n",
        "print(df_limpio['relab'].unique())\n",
        "\n",
        "print(\"\\nUnique values in 'informal':\")\n",
        "print(df_limpio['informal'].unique())\n",
        "\n",
        "print(\"\\nUnique values in 'sex':\")\n",
        "print(df_limpio['sexo'].unique())"
      ],
      "metadata": {
        "id": "YoJgSQjR_pAV"
      },
      "execution_count": null,
      "outputs": []
    },
    {
      "cell_type": "code",
      "source": [
        "# Convierto a las que van a ser mis variables independientes a tipo numérico, manejando posibles valores no numéricos (como 'NA')\n",
        "\n",
        "df_limpio['maxEducLevel'] = pd.to_numeric(df_limpio['maxEducLevel'], errors='coerce')\n",
        "df_limpio['antig'] = pd.to_numeric(df_limpio['antig'], errors='coerce')\n",
        "df_limpio['edad'] = pd.to_numeric(df_limpio['edad'], errors='coerce')\n",
        "df_limpio['sizeFirm'] = pd.to_numeric(df_limpio['sizeFirm'], errors='coerce')\n",
        "df_limpio['relab'] = pd.to_numeric(df_limpio['relab'], errors='coerce')\n",
        "df_limpio['informal'] = pd.to_numeric(df_limpio['informal'], errors='coerce')\n",
        "df_limpio['sexo'] = pd.to_numeric(df_limpio['sexo'], errors='coerce')"
      ],
      "metadata": {
        "id": "tm4XSstp8TLU"
      },
      "execution_count": null,
      "outputs": []
    },
    {
      "cell_type": "code",
      "source": [
        "# Genero dummies para variables categóricas\n",
        "categorical_vars = [\"relab\", \"sizeFirm\", \"maxEducLevel\"]\n",
        "df_encoded = pd.get_dummies(df_limpio, columns=categorical_vars, drop_first = True)\n",
        "\n",
        "# Defino un subset con las variables de interés con el format correcto\n",
        "variables = [\"y_ingLab_m_ha\", \"informal\", \"antig\", \"sexo\", \"edad\"] + \\\n",
        "            [col for col in df_encoded.columns if any(var in col for var in categorical_vars)]\n",
        "\n",
        "subset = df_encoded[variables]"
      ],
      "metadata": {
        "id": "rEcfRKUq_JC8"
      },
      "execution_count": null,
      "outputs": []
    },
    {
      "cell_type": "markdown",
      "source": [
        "## Descripción de los datos"
      ],
      "metadata": {
        "id": "1xsQ3msPFvfr"
      }
    },
    {
      "cell_type": "code",
      "source": [
        "# Estadisticos descriptivos para asociadas al salario horario\n",
        "\n",
        "pd.set_option('display.float_format', '{:,.2f}'.format)\n",
        "\n",
        "for col in wage_hours_related_vars:\n",
        "\n",
        "  print(\"\\nEstadísticas descriptivas:\")\n",
        "  print(df_limpio[col].describe())\n",
        "\n",
        "  zero_count = (df_limpio[col] == 0).sum()\n",
        "  na_count = df_limpio[col].isna().sum()\n",
        "  print(f\"Number of zeros in '{col}': {zero_count}\")\n",
        "  print(f\"Number of missing values (NA) in '{col}': {na_count}\")"
      ],
      "metadata": {
        "id": "NYQb4QCS30vB"
      },
      "execution_count": null,
      "outputs": []
    },
    {
      "cell_type": "code",
      "source": [
        "import matplotlib.pyplot as plt\n",
        "\n",
        "# Diccionario con nombres descriptivos para las variables\n",
        "etiquetas = {\n",
        "    \"salario_empleo_principal\": \"Salario del empleo principal\",\n",
        "    \"salario_empleo_secundario\": \"Salario del empleo secundario\",\n",
        "    \"hoursWorkUsual\": \"Horas trabajadas\",\n",
        "    \"hoursWorkActualSecondJob\": \"Horas trabajadas en el segundo empleo\",\n",
        "    \"y_salary_m\": \"Salario nominal mensual en empleo principal\",\n",
        "    \"y_salary_m_hu\": \"Salario real horario en empleo principal\",\n",
        "    \"y_ingLab_m\": \"Ingreso laboral nominal mensual\",\n",
        "    \"y_ingLab_m_ha\": \"Ingreso laboral nominal horario\",\n",
        "    \"hour_wage\": \"Salario horario\"\n",
        "}\n",
        "\n",
        "\n",
        "# Graficar histogramas\n",
        "for col in wage_hours_related_vars:\n",
        "    data = df_limpio[col].dropna()\n",
        "\n",
        "    plt.figure(figsize=(8, 6))  # Tamaño de la figura\n",
        "    plt.hist(data, bins=30, color='b', edgecolor='black', alpha=0.7)\n",
        "    plt.title(f\"Histograma de {etiquetas.get(col, col)}\", fontsize=14)  # Título claro\n",
        "    plt.xlabel(etiquetas.get(col, col), fontsize=12)\n",
        "    plt.ylabel(\"Frecuencia\", fontsize=12)\n",
        "    plt.xticks(fontsize=10)\n",
        "    plt.yticks(fontsize=10)\n",
        "    plt.tight_layout()  # Ajusta los márgenes automáticamente\n",
        "    plt.show()\n"
      ],
      "metadata": {
        "id": "YFCbf0qry9d5"
      },
      "execution_count": null,
      "outputs": []
    },
    {
      "cell_type": "code",
      "source": [
        "\n",
        "# Graficamos histogramas del logaritmo natural\n",
        "for col in wage_hours_related_vars:\n",
        "    data = df_limpio[col].dropna()\n",
        "\n",
        "    # Excluir valores no positivos para calcular logaritmo natural\n",
        "    data_log = data[data > 0].apply(np.log)\n",
        "\n",
        "    plt.figure(figsize=(8, 6))  # Tamaño de la figura\n",
        "    plt.hist(data_log, bins=30, color='b', edgecolor='black', alpha=0.7)  # Color azul con bordes negros\n",
        "    plt.title(f\"Logaritmo natural de {etiquetas.get(col, col)}\", fontsize=14)  # Título claro\n",
        "    plt.xlabel(f\"{etiquetas.get(col, col)} (en logaritmo)\", fontsize=12)  # Etiqueta del eje x\n",
        "    plt.ylabel(\"Frecuencia\", fontsize=12)  # Etiqueta del eje y\n",
        "    plt.xticks(fontsize=10)\n",
        "    plt.yticks(fontsize=10)\n",
        "    plt.tight_layout()  # Ajusta los márgenes automáticamente\n",
        "    plt.show()"
      ],
      "metadata": {
        "id": "mu5CT_-rWXL7"
      },
      "execution_count": null,
      "outputs": []
    },
    {
      "cell_type": "code",
      "source": [
        "# Calculo y visualizo la matriz de correlación\n",
        "corr_matrix = subset.corr()\n",
        "\n",
        "plt.figure(figsize=(8, 6))\n",
        "sns.heatmap(corr_matrix, cmap=\"coolwarm\", fmt=\".2f\", cbar=True)\n",
        "plt.title(\"Matriz de correlación\")\n",
        "plt.show()"
      ],
      "metadata": {
        "id": "0MidKgN6FySy"
      },
      "execution_count": null,
      "outputs": []
    },
    {
      "cell_type": "code",
      "source": [
        "# Elimino missings\n",
        "\n",
        "df_limpio = df_limpio[[\"y_ingLab_m_ha\", \"edad\", \"informal\", \"antig\", \"relab\", \"sexo\", \"sizeFirm\",\"maxEducLevel\"]]\n",
        "df_limpio = df_limpio.dropna()"
      ],
      "metadata": {
        "id": "vSXmc7lJ6Wdg"
      },
      "execution_count": null,
      "outputs": []
    },
    {
      "cell_type": "code",
      "source": [
        "# Defino las variables independientes y la dependiente\n",
        "variables_independientes = [\"edad\", \"informal\", \"relab\", \"antig\", \"sexo\", \"sizeFirm\",\"maxEducLevel\"]\n",
        "\n",
        "variable_dependiente = \"y_ingLab_m_ha\"\n",
        "\n",
        "import matplotlib.pyplot as plt\n",
        "\n",
        "# Diccionario para renombrar variables con nombres más descriptivos\n",
        "etiquetas = {\n",
        "    \"edad\": \"Edad\",\n",
        "    \"informal\": \"Trabajo informal\",\n",
        "    \"relab\": \"Relación laboral\",\n",
        "    \"antig\": \"Antigüedad\",\n",
        "    \"sexo\": \"Sexo\",\n",
        "    \"sizeFirm\": \"Tamaño de la firma\",\n",
        "    \"maxEducLevel\": \"Máximo nivel educativo\",\n",
        "    \"y_ingLab_m_ha\": \"Salario horario\"\n",
        "}\n",
        "\n",
        "# Creo scatterplots entre la variable dependiente y cada variable independiente\n",
        "for var in variables_independientes:\n",
        "    plt.figure(figsize=(8, 6))  # Tamaño de la figura\n",
        "    plt.scatter(df_limpio[var], df_limpio[variable_dependiente], alpha=0.7)\n",
        "    plt.title(f\"{etiquetas.get(var, var)} vs {etiquetas[variable_dependiente]}\", fontsize=14)\n",
        "    plt.xlabel(etiquetas.get(var, var), fontsize=12)\n",
        "    plt.ylabel(etiquetas[variable_dependiente], fontsize=12)\n",
        "    plt.xticks(fontsize=10)\n",
        "    plt.yticks(fontsize=10)\n",
        "    plt.tight_layout()  # Ajusta el diseño para evitar solapamientos\n",
        "    plt.show()\n",
        "\n"
      ],
      "metadata": {
        "id": "-YaFkWAMOwmx"
      },
      "execution_count": null,
      "outputs": []
    },
    {
      "cell_type": "markdown",
      "source": [
        "# Modelos"
      ],
      "metadata": {
        "id": "oiUvSLRaEcn8"
      }
    },
    {
      "cell_type": "code",
      "source": [
        "# Definimos variables dependiente e independientes, el train set y el test set\n",
        "\n",
        "X = df_limpio[[\"edad\", \"informal\", \"relab\", \"antig\", \"sexo\", \"sizeFirm\",\"maxEducLevel\"]]\n",
        "\n",
        "y=df_limpio[[\"y_ingLab_m_ha\"]]\n",
        "\n",
        "X_train, X_test, y_train, y_test = train_test_split(\n",
        "                                        X,\n",
        "                                        y,\n",
        "                                        test_size=0.3,\n",
        "                                        train_size=0.7,\n",
        "                                        random_state = 123\n",
        "                                        )\n",
        "\n",
        "X_train.head()"
      ],
      "metadata": {
        "colab": {
          "base_uri": "https://localhost:8080/",
          "height": 204
        },
        "id": "25_Piqa1EgCu",
        "outputId": "6ca15b6d-5386-4a00-c9a0-f8ebfdbedb25"
      },
      "execution_count": null,
      "outputs": [
        {
          "output_type": "execute_result",
          "data": {
            "text/plain": [
              "       edad  informal  relab  antig  sexo  sizeFirm  maxEducLevel\n",
              "7741     43         0      1     24     1         5          6.00\n",
              "22475    32         0      2    144     1         5          7.00\n",
              "13596    19         1      1      3     0         5          7.00\n",
              "31707    29         0      1      7     0         5          6.00\n",
              "15334    19         1      1      1     1         2          6.00"
            ],
            "text/html": [
              "\n",
              "  <div id=\"df-76a15451-61d0-4881-b146-d77c436eabd1\" class=\"colab-df-container\">\n",
              "    <div>\n",
              "<style scoped>\n",
              "    .dataframe tbody tr th:only-of-type {\n",
              "        vertical-align: middle;\n",
              "    }\n",
              "\n",
              "    .dataframe tbody tr th {\n",
              "        vertical-align: top;\n",
              "    }\n",
              "\n",
              "    .dataframe thead th {\n",
              "        text-align: right;\n",
              "    }\n",
              "</style>\n",
              "<table border=\"1\" class=\"dataframe\">\n",
              "  <thead>\n",
              "    <tr style=\"text-align: right;\">\n",
              "      <th></th>\n",
              "      <th>edad</th>\n",
              "      <th>informal</th>\n",
              "      <th>relab</th>\n",
              "      <th>antig</th>\n",
              "      <th>sexo</th>\n",
              "      <th>sizeFirm</th>\n",
              "      <th>maxEducLevel</th>\n",
              "    </tr>\n",
              "  </thead>\n",
              "  <tbody>\n",
              "    <tr>\n",
              "      <th>7741</th>\n",
              "      <td>43</td>\n",
              "      <td>0</td>\n",
              "      <td>1</td>\n",
              "      <td>24</td>\n",
              "      <td>1</td>\n",
              "      <td>5</td>\n",
              "      <td>6.00</td>\n",
              "    </tr>\n",
              "    <tr>\n",
              "      <th>22475</th>\n",
              "      <td>32</td>\n",
              "      <td>0</td>\n",
              "      <td>2</td>\n",
              "      <td>144</td>\n",
              "      <td>1</td>\n",
              "      <td>5</td>\n",
              "      <td>7.00</td>\n",
              "    </tr>\n",
              "    <tr>\n",
              "      <th>13596</th>\n",
              "      <td>19</td>\n",
              "      <td>1</td>\n",
              "      <td>1</td>\n",
              "      <td>3</td>\n",
              "      <td>0</td>\n",
              "      <td>5</td>\n",
              "      <td>7.00</td>\n",
              "    </tr>\n",
              "    <tr>\n",
              "      <th>31707</th>\n",
              "      <td>29</td>\n",
              "      <td>0</td>\n",
              "      <td>1</td>\n",
              "      <td>7</td>\n",
              "      <td>0</td>\n",
              "      <td>5</td>\n",
              "      <td>6.00</td>\n",
              "    </tr>\n",
              "    <tr>\n",
              "      <th>15334</th>\n",
              "      <td>19</td>\n",
              "      <td>1</td>\n",
              "      <td>1</td>\n",
              "      <td>1</td>\n",
              "      <td>1</td>\n",
              "      <td>2</td>\n",
              "      <td>6.00</td>\n",
              "    </tr>\n",
              "  </tbody>\n",
              "</table>\n",
              "</div>\n",
              "    <div class=\"colab-df-buttons\">\n",
              "\n",
              "  <div class=\"colab-df-container\">\n",
              "    <button class=\"colab-df-convert\" onclick=\"convertToInteractive('df-76a15451-61d0-4881-b146-d77c436eabd1')\"\n",
              "            title=\"Convert this dataframe to an interactive table.\"\n",
              "            style=\"display:none;\">\n",
              "\n",
              "  <svg xmlns=\"http://www.w3.org/2000/svg\" height=\"24px\" viewBox=\"0 -960 960 960\">\n",
              "    <path d=\"M120-120v-720h720v720H120Zm60-500h600v-160H180v160Zm220 220h160v-160H400v160Zm0 220h160v-160H400v160ZM180-400h160v-160H180v160Zm440 0h160v-160H620v160ZM180-180h160v-160H180v160Zm440 0h160v-160H620v160Z\"/>\n",
              "  </svg>\n",
              "    </button>\n",
              "\n",
              "  <style>\n",
              "    .colab-df-container {\n",
              "      display:flex;\n",
              "      gap: 12px;\n",
              "    }\n",
              "\n",
              "    .colab-df-convert {\n",
              "      background-color: #E8F0FE;\n",
              "      border: none;\n",
              "      border-radius: 50%;\n",
              "      cursor: pointer;\n",
              "      display: none;\n",
              "      fill: #1967D2;\n",
              "      height: 32px;\n",
              "      padding: 0 0 0 0;\n",
              "      width: 32px;\n",
              "    }\n",
              "\n",
              "    .colab-df-convert:hover {\n",
              "      background-color: #E2EBFA;\n",
              "      box-shadow: 0px 1px 2px rgba(60, 64, 67, 0.3), 0px 1px 3px 1px rgba(60, 64, 67, 0.15);\n",
              "      fill: #174EA6;\n",
              "    }\n",
              "\n",
              "    .colab-df-buttons div {\n",
              "      margin-bottom: 4px;\n",
              "    }\n",
              "\n",
              "    [theme=dark] .colab-df-convert {\n",
              "      background-color: #3B4455;\n",
              "      fill: #D2E3FC;\n",
              "    }\n",
              "\n",
              "    [theme=dark] .colab-df-convert:hover {\n",
              "      background-color: #434B5C;\n",
              "      box-shadow: 0px 1px 3px 1px rgba(0, 0, 0, 0.15);\n",
              "      filter: drop-shadow(0px 1px 2px rgba(0, 0, 0, 0.3));\n",
              "      fill: #FFFFFF;\n",
              "    }\n",
              "  </style>\n",
              "\n",
              "    <script>\n",
              "      const buttonEl =\n",
              "        document.querySelector('#df-76a15451-61d0-4881-b146-d77c436eabd1 button.colab-df-convert');\n",
              "      buttonEl.style.display =\n",
              "        google.colab.kernel.accessAllowed ? 'block' : 'none';\n",
              "\n",
              "      async function convertToInteractive(key) {\n",
              "        const element = document.querySelector('#df-76a15451-61d0-4881-b146-d77c436eabd1');\n",
              "        const dataTable =\n",
              "          await google.colab.kernel.invokeFunction('convertToInteractive',\n",
              "                                                    [key], {});\n",
              "        if (!dataTable) return;\n",
              "\n",
              "        const docLinkHtml = 'Like what you see? Visit the ' +\n",
              "          '<a target=\"_blank\" href=https://colab.research.google.com/notebooks/data_table.ipynb>data table notebook</a>'\n",
              "          + ' to learn more about interactive tables.';\n",
              "        element.innerHTML = '';\n",
              "        dataTable['output_type'] = 'display_data';\n",
              "        await google.colab.output.renderOutput(dataTable, element);\n",
              "        const docLink = document.createElement('div');\n",
              "        docLink.innerHTML = docLinkHtml;\n",
              "        element.appendChild(docLink);\n",
              "      }\n",
              "    </script>\n",
              "  </div>\n",
              "\n",
              "\n",
              "<div id=\"df-a8733b2a-42e7-4151-b7f0-77312472a5d7\">\n",
              "  <button class=\"colab-df-quickchart\" onclick=\"quickchart('df-a8733b2a-42e7-4151-b7f0-77312472a5d7')\"\n",
              "            title=\"Suggest charts\"\n",
              "            style=\"display:none;\">\n",
              "\n",
              "<svg xmlns=\"http://www.w3.org/2000/svg\" height=\"24px\"viewBox=\"0 0 24 24\"\n",
              "     width=\"24px\">\n",
              "    <g>\n",
              "        <path d=\"M19 3H5c-1.1 0-2 .9-2 2v14c0 1.1.9 2 2 2h14c1.1 0 2-.9 2-2V5c0-1.1-.9-2-2-2zM9 17H7v-7h2v7zm4 0h-2V7h2v10zm4 0h-2v-4h2v4z\"/>\n",
              "    </g>\n",
              "</svg>\n",
              "  </button>\n",
              "\n",
              "<style>\n",
              "  .colab-df-quickchart {\n",
              "      --bg-color: #E8F0FE;\n",
              "      --fill-color: #1967D2;\n",
              "      --hover-bg-color: #E2EBFA;\n",
              "      --hover-fill-color: #174EA6;\n",
              "      --disabled-fill-color: #AAA;\n",
              "      --disabled-bg-color: #DDD;\n",
              "  }\n",
              "\n",
              "  [theme=dark] .colab-df-quickchart {\n",
              "      --bg-color: #3B4455;\n",
              "      --fill-color: #D2E3FC;\n",
              "      --hover-bg-color: #434B5C;\n",
              "      --hover-fill-color: #FFFFFF;\n",
              "      --disabled-bg-color: #3B4455;\n",
              "      --disabled-fill-color: #666;\n",
              "  }\n",
              "\n",
              "  .colab-df-quickchart {\n",
              "    background-color: var(--bg-color);\n",
              "    border: none;\n",
              "    border-radius: 50%;\n",
              "    cursor: pointer;\n",
              "    display: none;\n",
              "    fill: var(--fill-color);\n",
              "    height: 32px;\n",
              "    padding: 0;\n",
              "    width: 32px;\n",
              "  }\n",
              "\n",
              "  .colab-df-quickchart:hover {\n",
              "    background-color: var(--hover-bg-color);\n",
              "    box-shadow: 0 1px 2px rgba(60, 64, 67, 0.3), 0 1px 3px 1px rgba(60, 64, 67, 0.15);\n",
              "    fill: var(--button-hover-fill-color);\n",
              "  }\n",
              "\n",
              "  .colab-df-quickchart-complete:disabled,\n",
              "  .colab-df-quickchart-complete:disabled:hover {\n",
              "    background-color: var(--disabled-bg-color);\n",
              "    fill: var(--disabled-fill-color);\n",
              "    box-shadow: none;\n",
              "  }\n",
              "\n",
              "  .colab-df-spinner {\n",
              "    border: 2px solid var(--fill-color);\n",
              "    border-color: transparent;\n",
              "    border-bottom-color: var(--fill-color);\n",
              "    animation:\n",
              "      spin 1s steps(1) infinite;\n",
              "  }\n",
              "\n",
              "  @keyframes spin {\n",
              "    0% {\n",
              "      border-color: transparent;\n",
              "      border-bottom-color: var(--fill-color);\n",
              "      border-left-color: var(--fill-color);\n",
              "    }\n",
              "    20% {\n",
              "      border-color: transparent;\n",
              "      border-left-color: var(--fill-color);\n",
              "      border-top-color: var(--fill-color);\n",
              "    }\n",
              "    30% {\n",
              "      border-color: transparent;\n",
              "      border-left-color: var(--fill-color);\n",
              "      border-top-color: var(--fill-color);\n",
              "      border-right-color: var(--fill-color);\n",
              "    }\n",
              "    40% {\n",
              "      border-color: transparent;\n",
              "      border-right-color: var(--fill-color);\n",
              "      border-top-color: var(--fill-color);\n",
              "    }\n",
              "    60% {\n",
              "      border-color: transparent;\n",
              "      border-right-color: var(--fill-color);\n",
              "    }\n",
              "    80% {\n",
              "      border-color: transparent;\n",
              "      border-right-color: var(--fill-color);\n",
              "      border-bottom-color: var(--fill-color);\n",
              "    }\n",
              "    90% {\n",
              "      border-color: transparent;\n",
              "      border-bottom-color: var(--fill-color);\n",
              "    }\n",
              "  }\n",
              "</style>\n",
              "\n",
              "  <script>\n",
              "    async function quickchart(key) {\n",
              "      const quickchartButtonEl =\n",
              "        document.querySelector('#' + key + ' button');\n",
              "      quickchartButtonEl.disabled = true;  // To prevent multiple clicks.\n",
              "      quickchartButtonEl.classList.add('colab-df-spinner');\n",
              "      try {\n",
              "        const charts = await google.colab.kernel.invokeFunction(\n",
              "            'suggestCharts', [key], {});\n",
              "      } catch (error) {\n",
              "        console.error('Error during call to suggestCharts:', error);\n",
              "      }\n",
              "      quickchartButtonEl.classList.remove('colab-df-spinner');\n",
              "      quickchartButtonEl.classList.add('colab-df-quickchart-complete');\n",
              "    }\n",
              "    (() => {\n",
              "      let quickchartButtonEl =\n",
              "        document.querySelector('#df-a8733b2a-42e7-4151-b7f0-77312472a5d7 button');\n",
              "      quickchartButtonEl.style.display =\n",
              "        google.colab.kernel.accessAllowed ? 'block' : 'none';\n",
              "    })();\n",
              "  </script>\n",
              "</div>\n",
              "\n",
              "    </div>\n",
              "  </div>\n"
            ],
            "application/vnd.google.colaboratory.intrinsic+json": {
              "type": "dataframe",
              "variable_name": "X_train",
              "summary": "{\n  \"name\": \"X_train\",\n  \"rows\": 6848,\n  \"fields\": [\n    {\n      \"column\": \"edad\",\n      \"properties\": {\n        \"dtype\": \"number\",\n        \"std\": 11,\n        \"min\": 19,\n        \"max\": 86,\n        \"num_unique_values\": 62,\n        \"samples\": [\n          66,\n          78,\n          43\n        ],\n        \"semantic_type\": \"\",\n        \"description\": \"\"\n      }\n    },\n    {\n      \"column\": \"informal\",\n      \"properties\": {\n        \"dtype\": \"number\",\n        \"std\": 0,\n        \"min\": 0,\n        \"max\": 1,\n        \"num_unique_values\": 2,\n        \"samples\": [\n          1,\n          0\n        ],\n        \"semantic_type\": \"\",\n        \"description\": \"\"\n      }\n    },\n    {\n      \"column\": \"relab\",\n      \"properties\": {\n        \"dtype\": \"number\",\n        \"std\": 0,\n        \"min\": 1,\n        \"max\": 3,\n        \"num_unique_values\": 3,\n        \"samples\": [\n          1,\n          2\n        ],\n        \"semantic_type\": \"\",\n        \"description\": \"\"\n      }\n    },\n    {\n      \"column\": \"antig\",\n      \"properties\": {\n        \"dtype\": \"number\",\n        \"std\": 74,\n        \"min\": 0,\n        \"max\": 696,\n        \"num_unique_values\": 205,\n        \"samples\": [\n          60,\n          228\n        ],\n        \"semantic_type\": \"\",\n        \"description\": \"\"\n      }\n    },\n    {\n      \"column\": \"sexo\",\n      \"properties\": {\n        \"dtype\": \"number\",\n        \"std\": 0,\n        \"min\": 0,\n        \"max\": 1,\n        \"num_unique_values\": 2,\n        \"samples\": [\n          0,\n          1\n        ],\n        \"semantic_type\": \"\",\n        \"description\": \"\"\n      }\n    },\n    {\n      \"column\": \"sizeFirm\",\n      \"properties\": {\n        \"dtype\": \"number\",\n        \"std\": 1,\n        \"min\": 1,\n        \"max\": 5,\n        \"num_unique_values\": 5,\n        \"samples\": [\n          2,\n          3\n        ],\n        \"semantic_type\": \"\",\n        \"description\": \"\"\n      }\n    },\n    {\n      \"column\": \"maxEducLevel\",\n      \"properties\": {\n        \"dtype\": \"number\",\n        \"std\": 1.1079802036021156,\n        \"min\": 1.0,\n        \"max\": 7.0,\n        \"num_unique_values\": 6,\n        \"samples\": [\n          6.0,\n          7.0\n        ],\n        \"semantic_type\": \"\",\n        \"description\": \"\"\n      }\n    }\n  ]\n}"
            }
          },
          "metadata": {},
          "execution_count": 17
        }
      ]
    },
    {
      "cell_type": "markdown",
      "source": [
        "## Modelo 1"
      ],
      "metadata": {
        "id": "bCsWa2F7Er6x"
      }
    },
    {
      "cell_type": "code",
      "source": [
        "# Definimos el modelo\n",
        "X0 = np.ones((len(y_train), 1))\n",
        "model1=  LinearRegression().fit(X0,y_train)\n",
        "model1.intercept_"
      ],
      "metadata": {
        "colab": {
          "base_uri": "https://localhost:8080/"
        },
        "id": "dHWvEM_-EkSc",
        "outputId": "68854fca-1e68-42eb-eca2-b9f3caf87e0a"
      },
      "execution_count": null,
      "outputs": [
        {
          "output_type": "execute_result",
          "data": {
            "text/plain": [
              "array([8872.638145])"
            ]
          },
          "metadata": {},
          "execution_count": 21
        }
      ]
    },
    {
      "cell_type": "code",
      "source": [
        "# Media estimada\n",
        "y_train.mean()"
      ],
      "metadata": {
        "colab": {
          "base_uri": "https://localhost:8080/",
          "height": 114
        },
        "id": "iVihOaTgEv0b",
        "outputId": "fce4389a-b216-4bec-d5a8-7c4bd10274b8"
      },
      "execution_count": null,
      "outputs": [
        {
          "output_type": "execute_result",
          "data": {
            "text/plain": [
              "y_ingLab_m_ha   8,872.64\n",
              "dtype: float64"
            ],
            "text/html": [
              "<div>\n",
              "<style scoped>\n",
              "    .dataframe tbody tr th:only-of-type {\n",
              "        vertical-align: middle;\n",
              "    }\n",
              "\n",
              "    .dataframe tbody tr th {\n",
              "        vertical-align: top;\n",
              "    }\n",
              "\n",
              "    .dataframe thead th {\n",
              "        text-align: right;\n",
              "    }\n",
              "</style>\n",
              "<table border=\"1\" class=\"dataframe\">\n",
              "  <thead>\n",
              "    <tr style=\"text-align: right;\">\n",
              "      <th></th>\n",
              "      <th>0</th>\n",
              "    </tr>\n",
              "  </thead>\n",
              "  <tbody>\n",
              "    <tr>\n",
              "      <th>y_ingLab_m_ha</th>\n",
              "      <td>8,872.64</td>\n",
              "    </tr>\n",
              "  </tbody>\n",
              "</table>\n",
              "</div><br><label><b>dtype:</b> float64</label>"
            ]
          },
          "metadata": {},
          "execution_count": 22
        }
      ]
    },
    {
      "cell_type": "code",
      "source": [
        "# Predicciones basadas en el modelo 1\n",
        "X0_test = np.ones((len(y_test), 1))\n",
        "y_hat_model1 = model1.predict(X0_test)\n",
        "\n",
        "# Calculamos el Mean Squared Error (MSE) y el Root Mean Squared Error (RMSE)\n",
        "mse1 = mean_squared_error(y_test, y_hat_model1)\n",
        "rmse1 = np.sqrt(mse1)\n",
        "\n",
        "print(f'Root Mean Squared Error: {rmse1}')"
      ],
      "metadata": {
        "id": "wVvDCyMGFS2p"
      },
      "execution_count": null,
      "outputs": []
    },
    {
      "cell_type": "markdown",
      "source": [
        "## Modelo 2: Intercepto y máximo nivel educativo alcanzado"
      ],
      "metadata": {
        "id": "mWeY4AemFdiD"
      }
    },
    {
      "cell_type": "code",
      "source": [
        "# Definimos el modelo\n",
        "model2=  LinearRegression().fit(X_train[['maxEducLevel']],y_train)\n",
        "model2.coef_"
      ],
      "metadata": {
        "colab": {
          "base_uri": "https://localhost:8080/"
        },
        "id": "gk33WRESFcsf",
        "outputId": "aa78a11b-b847-4e10-ff9f-e1a1f8441474"
      },
      "execution_count": null,
      "outputs": [
        {
          "output_type": "execute_result",
          "data": {
            "text/plain": [
              "array([[3026.0805349]])"
            ]
          },
          "metadata": {},
          "execution_count": 24
        }
      ]
    },
    {
      "cell_type": "code",
      "source": [
        "# Predicciones basadas en el modelo 2\n",
        "y_hat_model2 = model2.predict(X_test[['maxEducLevel']])\n",
        "\n",
        "# Calculamos el Mean Squared Error (MSE) y el Root Mean Squared Error (RMSE)\n",
        "mse2 = mean_squared_error(y_test, y_hat_model2)\n",
        "rmse2 = np.sqrt(mse2)\n",
        "\n",
        "print(f'Root Mean Squared Error: {rmse2}')"
      ],
      "metadata": {
        "colab": {
          "base_uri": "https://localhost:8080/"
        },
        "id": "XahWIzMhFjFv",
        "outputId": "34fd7dea-076a-49c1-b672-b273511aec4f"
      },
      "execution_count": null,
      "outputs": [
        {
          "output_type": "stream",
          "name": "stdout",
          "text": [
            "Mean Squared Error: 158101108.2962417\n"
          ]
        }
      ]
    },
    {
      "cell_type": "markdown",
      "source": [
        "## Modelo 3: Intercepto, máximo nivel educativo alcanzado, edad y sexo"
      ],
      "metadata": {
        "id": "8gGYXoL2FoIf"
      }
    },
    {
      "cell_type": "code",
      "source": [
        "# Definimos el modelo\n",
        "model3=  LinearRegression().fit(X_train[[\"edad\", \"informal\",\"sexo\",\"maxEducLevel\"]],y_train)\n",
        "model3.coef_"
      ],
      "metadata": {
        "colab": {
          "base_uri": "https://localhost:8080/"
        },
        "id": "csqYc6E5FnZ1",
        "outputId": "6333059d-228a-4bc2-f4f4-8eac43554f6c"
      },
      "execution_count": null,
      "outputs": [
        {
          "output_type": "execute_result",
          "data": {
            "text/plain": [
              "array([[  255.91014076, -3152.57752079,  1104.11418988,  3610.61464858]])"
            ]
          },
          "metadata": {},
          "execution_count": 26
        }
      ]
    },
    {
      "cell_type": "code",
      "source": [
        "# Predicciones basadas en el modelo 3\n",
        "y_hat_model3 = model3.predict(X_test[[\"edad\", \"informal\",\"sexo\",\"maxEducLevel\"]])\n",
        "\n",
        "# Calculamos el Mean Squared Error (MSE) y el Root Mean Squared Error (RMSE)\n",
        "mse3 = mean_squared_error(y_test, y_hat_model3)\n",
        "rmse3 = np.sqrt(mse3)\n",
        "\n",
        "print(f'Root Mean Squared Error: {rmse3}')"
      ],
      "metadata": {
        "colab": {
          "base_uri": "https://localhost:8080/"
        },
        "id": "wbhwtolWFyHm",
        "outputId": "02c48926-cbc8-40d0-c171-810c8cec4998"
      },
      "execution_count": null,
      "outputs": [
        {
          "output_type": "stream",
          "name": "stdout",
          "text": [
            "Mean Squared Error: 147855976.75942838\n"
          ]
        }
      ]
    },
    {
      "cell_type": "markdown",
      "source": [
        "## Modelo 4: Intercepto, máximo nivel educativo alcanzado, edad, sexo, formalidad del empleo y tipo de relación laboral"
      ],
      "metadata": {
        "id": "uBt58aVeC_v3"
      }
    },
    {
      "cell_type": "code",
      "source": [
        "# Defino el modelo\n",
        "model4=  LinearRegression().fit(X_train[[\"edad\", \"informal\", \"relab\", \"sexo\",\"maxEducLevel\"]],y_train)\n",
        "model4.coef_"
      ],
      "metadata": {
        "colab": {
          "base_uri": "https://localhost:8080/"
        },
        "id": "cCQ7oaMOC-ub",
        "outputId": "0c6a9332-8f9c-4dbd-e528-bd4b5c4d2f79"
      },
      "execution_count": null,
      "outputs": [
        {
          "output_type": "execute_result",
          "data": {
            "text/plain": [
              "array([[  253.5511288 , -3186.20252114,   285.88176382,  1162.31830052,\n",
              "         3622.75230791]])"
            ]
          },
          "metadata": {},
          "execution_count": 28
        }
      ]
    },
    {
      "cell_type": "code",
      "source": [
        "# Predicciones basadas en el modelo 4\n",
        "y_hat_model4 = model4.predict(X_test[[\"edad\", \"informal\", \"relab\", \"sexo\",\"maxEducLevel\"]])\n",
        "\n",
        "# Calculamos el Mean Squared Error (MSE) y el Root Mean Squared Error (RMSE)\n",
        "mse4 = mean_squared_error(y_test, y_hat_model4)\n",
        "rmse4 = np.sqrt(mse4)\n",
        "\n",
        "print(f'Root Mean Squared Error: {rmse4}')"
      ],
      "metadata": {
        "colab": {
          "base_uri": "https://localhost:8080/"
        },
        "id": "bTwuw2flDMu8",
        "outputId": "52f620ec-1675-4f7f-a2ef-9b5bd19c119e"
      },
      "execution_count": null,
      "outputs": [
        {
          "output_type": "stream",
          "name": "stdout",
          "text": [
            "Mean Squared Error: 147855617.61562744\n"
          ]
        }
      ]
    },
    {
      "cell_type": "markdown",
      "source": [
        "## Modelo 5: Intercepto, máximo nivel educativo alcanzado, edad, sexo, formalidad del empleo, tipo de relación laboral, antiguedad, tamaño de la firma y oficio"
      ],
      "metadata": {
        "id": "_7SlrhpFSnKb"
      }
    },
    {
      "cell_type": "code",
      "source": [
        "# Defino el modelo\n",
        "model5=  LinearRegression().fit(X_train[[\"edad\", \"informal\", \"relab\", \"antig\", \"sexo\", \"sizeFirm\",\"maxEducLevel\"]],y_train)\n",
        "model5.coef_"
      ],
      "metadata": {
        "id": "OXuwRSmjSoSB",
        "outputId": "9626d216-91f9-40eb-bee7-b3da42d6561a",
        "colab": {
          "base_uri": "https://localhost:8080/"
        }
      },
      "execution_count": null,
      "outputs": [
        {
          "output_type": "execute_result",
          "data": {
            "text/plain": [
              "array([[ 192.93367159, -510.52004364, 1116.19123836,   20.28176156,\n",
              "         935.17971178, 1342.49632232, 3160.40275166]])"
            ]
          },
          "metadata": {},
          "execution_count": 30
        }
      ]
    },
    {
      "cell_type": "code",
      "source": [
        "# Predicciones basadas en el modelo 5\n",
        "y_hat_model5 = model5.predict(X_test[[\"edad\", \"informal\", \"relab\", \"antig\", \"sexo\", \"sizeFirm\",\"maxEducLevel\"]])\n",
        "\n",
        "# Calculamos el Mean Squared Error (MSE) y el Root Mean Squared Error (RMSE)\n",
        "mse5 = mean_squared_error(y_test, y_hat_model5)\n",
        "rmse5 = np.sqrt(mse5)\n",
        "\n",
        "print(f'Root Mean Squared Error: {rmse5}')"
      ],
      "metadata": {
        "id": "C1h5-BdQSqP3",
        "outputId": "7e828abc-24d7-4f57-aefe-f77b4e0d4253",
        "colab": {
          "base_uri": "https://localhost:8080/"
        }
      },
      "execution_count": null,
      "outputs": [
        {
          "output_type": "stream",
          "name": "stdout",
          "text": [
            "Mean Squared Error: 144591933.73146513\n"
          ]
        }
      ]
    },
    {
      "cell_type": "markdown",
      "source": [],
      "metadata": {
        "id": "-afCIq-4TaVW"
      }
    },
    {
      "cell_type": "markdown",
      "source": [
        "## Modelo 6: Modelo 3 con interacciones y no linealidades de segundo grado"
      ],
      "metadata": {
        "id": "nT42jRctTJ45"
      }
    },
    {
      "cell_type": "code",
      "source": [
        "poly_2 = PolynomialFeatures(degree=2)\n",
        "poly_3 = PolynomialFeatures(degree=3)"
      ],
      "metadata": {
        "id": "yCvbqxg5Sv6r"
      },
      "execution_count": null,
      "outputs": []
    },
    {
      "cell_type": "code",
      "source": [
        "# Defino el modelo\n",
        "X_train_poly_2 = poly_2.fit_transform(X_train[[\"edad\", \"informal\",\"sexo\",\"maxEducLevel\"]])\n",
        "model6 =  LinearRegression().fit(X_train_poly_2,y_train)"
      ],
      "metadata": {
        "id": "BDCVT2KxTKwv"
      },
      "execution_count": null,
      "outputs": []
    },
    {
      "cell_type": "code",
      "source": [
        "# Predicciones basadas en el modelo 6\n",
        "X_test_poly_6 = poly_2.fit_transform(X_test[[\"edad\", \"informal\",\"sexo\",\"maxEducLevel\"]])\n",
        "y_hat_model6 = model6.predict(X_test_poly_6)\n",
        "\n",
        "# Calculamos el Mean Squared Error (MSE) y el Root Mean Squared Error (RMSE)\n",
        "mse6 = mean_squared_error(y_test, y_hat_model6)\n",
        "rmse6 = np.sqrt(mse6)\n",
        "\n",
        "print(f'Root Mean Squared Error: {rmse6}')"
      ],
      "metadata": {
        "id": "uY2BhI8sTMrQ",
        "outputId": "3ee6cd0e-0d9c-45a3-a538-809793839348",
        "colab": {
          "base_uri": "https://localhost:8080/"
        }
      },
      "execution_count": null,
      "outputs": [
        {
          "output_type": "stream",
          "name": "stdout",
          "text": [
            "Mean Squared Error: 138959885.52011138\n"
          ]
        }
      ]
    },
    {
      "cell_type": "markdown",
      "source": [
        "## Modelo 7: Modelo 3 con interacciones y no linealidades de tercer grado"
      ],
      "metadata": {
        "id": "KGpErTp2TOLM"
      }
    },
    {
      "cell_type": "code",
      "source": [
        "# Defino el modelo\n",
        "X_train_poly_3 = poly_3.fit_transform(X_train[[\"edad\", \"informal\",\"sexo\",\"maxEducLevel\"]])\n",
        "model7 =  LinearRegression().fit(X_train_poly_3,y_train)"
      ],
      "metadata": {
        "id": "aIaN0B8nTUeO"
      },
      "execution_count": null,
      "outputs": []
    },
    {
      "cell_type": "code",
      "source": [
        "# Predicciones basadas en el modelo 6\n",
        "X_test_poly_7 = poly_3.fit_transform(X_test[[\"edad\", \"informal\",\"sexo\",\"maxEducLevel\"]])\n",
        "y_hat_model7 = model7.predict(X_test_poly_7)\n",
        "\n",
        "# Calculamos el Mean Squared Error (MSE) y el Root Mean Squared Error (RMSE)\n",
        "mse7 = mean_squared_error(y_test, y_hat_model7)\n",
        "rmse7 = np.sqrt(mse7)\n",
        "\n",
        "print(f'Root Mean Squared Error: {rmse7}')"
      ],
      "metadata": {
        "id": "8nQNf3d9TV6M",
        "outputId": "245a6182-0643-4f3b-a6b5-693fad83ba63",
        "colab": {
          "base_uri": "https://localhost:8080/"
        }
      },
      "execution_count": null,
      "outputs": [
        {
          "output_type": "stream",
          "name": "stdout",
          "text": [
            "Mean Squared Error: 135758679.0348077\n"
          ]
        }
      ]
    }
  ]
}